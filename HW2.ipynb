{
 "cells": [
  {
   "cell_type": "code",
   "execution_count": 1,
   "id": "b5ddc9dd",
   "metadata": {},
   "outputs": [
    {
     "name": "stdout",
     "output_type": "stream",
     "text": [
      "food is taerg and healty\n"
     ]
    }
   ],
   "source": [
    "def reverse(sentence, reverse_word):\n",
    "    s_split=sentence.split()\n",
    "    t=-1\n",
    "    if type(sentence)==str and type(reverse_word)==str:\n",
    "        for i in s_split:\n",
    "            t+=1\n",
    "            if i == reverse_word:\n",
    "                reverse_word=reverse_word[::-1]\n",
    "                s_split[t]=reverse_word\n",
    "                return \" \".join(s_split)\n",
    "        else:\n",
    "            return \"The word was not found\" \n",
    "    else:\n",
    "        print(\"invalid input\")\n",
    "\n",
    "        \n",
    "print(reverse(\"food is great and healty\", \"great\"))\n",
    "        \n",
    "#Alon Weisfeld\n",
    "#308353994"
   ]
  },
  {
   "cell_type": "code",
   "execution_count": null,
   "id": "b35bc7fd",
   "metadata": {},
   "outputs": [],
   "source": []
  }
 ],
 "metadata": {
  "kernelspec": {
   "display_name": "Python 3 (ipykernel)",
   "language": "python",
   "name": "python3"
  },
  "language_info": {
   "codemirror_mode": {
    "name": "ipython",
    "version": 3
   },
   "file_extension": ".py",
   "mimetype": "text/x-python",
   "name": "python",
   "nbconvert_exporter": "python",
   "pygments_lexer": "ipython3",
   "version": "3.9.6"
  }
 },
 "nbformat": 4,
 "nbformat_minor": 5
}
